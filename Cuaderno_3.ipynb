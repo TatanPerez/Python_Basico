{
  "nbformat": 4,
  "nbformat_minor": 0,
  "metadata": {
    "colab": {
      "provenance": [],
      "authorship_tag": "ABX9TyOPtnd7rlKRMehYL1cVOcZr",
      "include_colab_link": true
    },
    "kernelspec": {
      "name": "python3",
      "display_name": "Python 3"
    },
    "language_info": {
      "name": "python"
    }
  },
  "cells": [
    {
      "cell_type": "markdown",
      "metadata": {
        "id": "view-in-github",
        "colab_type": "text"
      },
      "source": [
        "<a href=\"https://colab.research.google.com/github/TatanPerez/Python_Basico/blob/main/Cuaderno_3.ipynb\" target=\"_parent\"><img src=\"https://colab.research.google.com/assets/colab-badge.svg\" alt=\"Open In Colab\"/></a>"
      ]
    },
    {
      "cell_type": "markdown",
      "source": [
        "# Ejercicios - Cuaderno 3\n",
        "Wilmer Sebastian Perez Cuastumal  2024-1\n",
        "\n",
        "\n",
        "Bucles"
      ],
      "metadata": {
        "id": "R56buAPo6Hh6"
      }
    },
    {
      "cell_type": "markdown",
      "source": [
        "Exercise 1\n",
        "\n",
        "Write a code that ask the user to enter an integer number every time, and the process will be repeated with more numbers until the user enters a zero.\n",
        "\n",
        "At the end (when the zero is entered), show the amount of numbers entered"
      ],
      "metadata": {
        "id": "wfhxkyD960Nd"
      }
    },
    {
      "cell_type": "code",
      "source": [
        "num = int(input(\"Ingrese un numero entero: \"))\n",
        "con = 0\n",
        "while num !=0 :\n",
        "  num = int(input(\"Ingrese un numero entero: \"))\n",
        "  con += 1\n",
        "\n",
        "print(\"numeros ingresados : {}\".format(con))"
      ],
      "metadata": {
        "colab": {
          "base_uri": "https://localhost:8080/"
        },
        "id": "hsXy7AAr6M6Q",
        "outputId": "816d8ba3-7367-432c-8e45-43d650273fd1"
      },
      "execution_count": 5,
      "outputs": [
        {
          "output_type": "stream",
          "name": "stdout",
          "text": [
            "Ingrese un numero entero: 324\n",
            "Ingrese un numero entero: 646\n",
            "Ingrese un numero entero: 856\n",
            "Ingrese un numero entero: 25\n",
            "Ingrese un numero entero: 0\n",
            "numeros ingresados : 4\n"
          ]
        }
      ]
    },
    {
      "cell_type": "markdown",
      "source": [
        "Exercise 2\n",
        "\n",
        "Use the input() function to ask for the user to enter one integer number. Only if the number is even, it will be accumulated.\n",
        "\n",
        "The program must come to an end if the sum of the numbers surpasses 50 or if the user enters a maximum of 10 numbers.\n"
      ],
      "metadata": {
        "id": "kng1nXk468FO"
      }
    },
    {
      "cell_type": "code",
      "source": [
        "n = 0\n",
        "sum_par = 0\n",
        "while n <10 :\n",
        "  par = int(input(\"Ingrese un numero entero: \"))\n",
        "  n += 1\n",
        "  if (par % 2 == 0 ) :\n",
        "    sum_par += par\n",
        "    if (sum_par > 50 ):\n",
        "      break\n",
        "\n",
        "print(\"numero de pares: \"+str(n))\n",
        "print(\"suma de numeros pares: \"+str(sum_par))"
      ],
      "metadata": {
        "colab": {
          "base_uri": "https://localhost:8080/"
        },
        "id": "Hbe1lUqE6_2g",
        "outputId": "90e8274f-bcd9-4d61-ce73-21361d2d263e"
      },
      "execution_count": 4,
      "outputs": [
        {
          "output_type": "stream",
          "name": "stdout",
          "text": [
            "Ingrese un numero entero: 90\n",
            "numero de pares: 1\n",
            "suma de numeros pares: 90\n"
          ]
        }
      ]
    }
  ]
}