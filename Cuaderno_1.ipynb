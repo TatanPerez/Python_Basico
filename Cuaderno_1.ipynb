{
  "nbformat": 4,
  "nbformat_minor": 0,
  "metadata": {
    "colab": {
      "provenance": [],
      "authorship_tag": "ABX9TyM1q6bH7dV+plDmXK7DWrIE",
      "include_colab_link": true
    },
    "kernelspec": {
      "name": "python3",
      "display_name": "Python 3"
    },
    "language_info": {
      "name": "python"
    }
  },
  "cells": [
    {
      "cell_type": "markdown",
      "metadata": {
        "id": "view-in-github",
        "colab_type": "text"
      },
      "source": [
        "<a href=\"https://colab.research.google.com/github/TatanPerez/Python_Basico/blob/main/Cuaderno_1.ipynb\" target=\"_parent\"><img src=\"https://colab.research.google.com/assets/colab-badge.svg\" alt=\"Open In Colab\"/></a>"
      ]
    },
    {
      "cell_type": "markdown",
      "source": [
        "# Ejercicios - Cuaderno 1\n",
        "Wilmer Sebastian Perez Cuastumal  2024-1\n",
        "\n",
        "\n",
        "Variables"
      ],
      "metadata": {
        "id": "3BOpeGqJosE_"
      }
    },
    {
      "cell_type": "markdown",
      "source": [
        "## 1. Write a program that displays the result of the following arithmetic operation on the screen: x(t)=(3+2/2.5)^2"
      ],
      "metadata": {
        "id": "L4sgkd7QrbRN"
      }
    },
    {
      "cell_type": "code",
      "source": [
        "x=(3+2/2.5)**2\n",
        "print (x)\n",
        "x"
      ],
      "metadata": {
        "colab": {
          "base_uri": "https://localhost:8080/"
        },
        "id": "FGOSyIVtpkzP",
        "outputId": "dfe7984c-daa1-4615-9354-36459c1d40c5"
      },
      "execution_count": 1,
      "outputs": [
        {
          "output_type": "stream",
          "name": "stdout",
          "text": [
            "14.44\n"
          ]
        },
        {
          "output_type": "execute_result",
          "data": {
            "text/plain": [
              "14.44"
            ]
          },
          "metadata": {},
          "execution_count": 1
        }
      ]
    },
    {
      "cell_type": "markdown",
      "source": [
        "2. Write a program that asks the user for the number of hours worked and the hourly rate. Then, it should display on the screen the corresponding payment."
      ],
      "metadata": {
        "id": "TGuZ5vwTrwCn"
      }
    },
    {
      "cell_type": "code",
      "source": [
        "print (\"Ingrese la tarifa por hora = \")\n",
        "H = float(input())\n",
        "print (\"\\nIngrese el numero de horas trabajadas = \")\n",
        "n = int(input())\n",
        "Pago = H * n\n",
        "Pago"
      ],
      "metadata": {
        "colab": {
          "base_uri": "https://localhost:8080/"
        },
        "id": "vucZqySdr0Nm",
        "outputId": "e5056a26-0468-43f4-f0c8-258599a3e213"
      },
      "execution_count": 2,
      "outputs": [
        {
          "name": "stdout",
          "output_type": "stream",
          "text": [
            "Ingrese la tarifa por hora = \n",
            "5000\n",
            "\n",
            "Ingrese el numero de horas trabajadas = \n",
            "10\n"
          ]
        },
        {
          "output_type": "execute_result",
          "data": {
            "text/plain": [
              "50000.0"
            ]
          },
          "metadata": {},
          "execution_count": 2
        }
      ]
    },
    {
      "cell_type": "markdown",
      "source": [
        "3. Write a program that asks the user for their weight (in kg) and height (in meters), calculates the body mass index (BMI), stores it in a variable, and displays the message \"Your body mass index is imc\" on the screen, where imc is the calculated BMI rounded to two decimal places."
      ],
      "metadata": {
        "id": "xLMObPggr6cw"
      }
    },
    {
      "cell_type": "code",
      "source": [
        "print (\"Ingrese su peso actual en Kg = \")\n",
        "peso = float(input())\n",
        "print (\"Ingrese su altura actual en metros = \")\n",
        "altura = float(input())\n",
        "IMC = round(peso / (altura)**2,2)\n",
        "print (\"Tu índice de masa corporal es imc = \",IMC)"
      ],
      "metadata": {
        "colab": {
          "base_uri": "https://localhost:8080/"
        },
        "id": "V373ccRMr-7q",
        "outputId": "d92efc1c-d4c6-477b-efc3-e6cd6d5231b8"
      },
      "execution_count": 4,
      "outputs": [
        {
          "output_type": "stream",
          "name": "stdout",
          "text": [
            "Ingrese su peso actual en Kg = \n",
            "62\n",
            "Ingrese su altura actual en metros = \n",
            "1.65\n",
            "Tu índice de masa corporal es imc =  22.77\n"
          ]
        }
      ]
    }
  ]
}