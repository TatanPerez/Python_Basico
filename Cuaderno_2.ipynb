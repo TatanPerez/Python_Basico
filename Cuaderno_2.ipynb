{
  "nbformat": 4,
  "nbformat_minor": 0,
  "metadata": {
    "colab": {
      "provenance": [],
      "authorship_tag": "ABX9TyOtAlguNXCQJNPsLkWrYMmr",
      "include_colab_link": true
    },
    "kernelspec": {
      "name": "python3",
      "display_name": "Python 3"
    },
    "language_info": {
      "name": "python"
    }
  },
  "cells": [
    {
      "cell_type": "markdown",
      "metadata": {
        "id": "view-in-github",
        "colab_type": "text"
      },
      "source": [
        "<a href=\"https://colab.research.google.com/github/TatanPerez/Python_Basico/blob/main/Cuaderno_2.ipynb\" target=\"_parent\"><img src=\"https://colab.research.google.com/assets/colab-badge.svg\" alt=\"Open In Colab\"/></a>"
      ]
    },
    {
      "cell_type": "markdown",
      "source": [
        "# Ejercicios - Cuaderno 2\n",
        "Wilmer Sebastian Perez Cuastumal  2024-1\n",
        "\n",
        "\n",
        "Condicionales"
      ],
      "metadata": {
        "id": "qTEPMKpusnfX"
      }
    },
    {
      "cell_type": "markdown",
      "source": [
        "1. In order to pay a certain tax, you must be over 16 years old and have a monthly income equal to or greater than €1000. Write a program that asks the user for their age and monthly income, and displays whether the user has to pay the tax or not."
      ],
      "metadata": {
        "id": "U1twiTJhs8Ez"
      }
    },
    {
      "cell_type": "code",
      "source": [
        "Edad = int(input(\"Ingrese su edad en años = \"))\n",
        "Edad\n",
        "Ingresos = int(input(\"Ingrese sus ingresos mensuales = \"))\n",
        "Ingresos\n",
        "if Ingresos < 1000 or Edad < 16 :\n",
        "  print (\"El ususario no tiene que pagar impuestos \")\n",
        "elif Ingresos >= 1000 and Edad >= 16 :\n",
        "  print (\"El usuario si tiene que pagar impuestos \")"
      ],
      "metadata": {
        "colab": {
          "base_uri": "https://localhost:8080/"
        },
        "id": "JcTbMCGbtDBk",
        "outputId": "2541a9dd-e5f5-4399-e16c-3dc369fc39e3"
      },
      "execution_count": 1,
      "outputs": [
        {
          "output_type": "stream",
          "name": "stdout",
          "text": [
            "Ingrese su edad en años = 21\n",
            "Ingrese sus ingresos mensuales = 1000000\n",
            "El usuario si tiene que pagar impuestos \n"
          ]
        }
      ]
    },
    {
      "cell_type": "markdown",
      "source": [
        "2. The Bella Napoli pizzeria offers vegetarian and non-vegetarian pizzas to its customers. The ingredients for each type of pizza are as follows:\n",
        "Vegetarian ingredients: Bell peppers and tofu.\n",
        "\n",
        "Non-vegetarian ingredients: Pepperoni, Ham, and Salmon.\n",
        "\n",
        "Write a program that asks the user if they want a vegetarian pizza or not, and based on their response, displays a menu with the available ingredients for them to choose from. Only one additional ingredient can be chosen besides the mozzarella and tomato, which are included in all pizzas. Finally, the program should display whether the chosen pizza is vegetarian or not, along with all the ingredients it contains."
      ],
      "metadata": {
        "id": "IcxQyUG-t8id"
      }
    },
    {
      "cell_type": "code",
      "source": [
        "Tipo = int(input(\"Que tipo de pizza quiere\\n 1.vegetariana  \\n 2. NO vegetariana \\n\"))\n",
        "incluidos = [\"Mozzarella\",\"Tomate\"]\n",
        "\n",
        "vegetariana = [\"Pimientos morrones\",\"Tofu\"]\n",
        "NO_Vegetariana = [\"Pepperoni\",\"Jamon\",\"Salmon\"]\n",
        "\n",
        "if (Tipo == 1):\n",
        "  n = int(input(\"Ingrediente adicional precione numero correspondiente\\n1. Pimientos morrones\\n2. Tofu\\n\"))\n",
        "  if n in [1,2]:\n",
        "    print (\"\\nPizza vegetariana:\\nIncluye Mozzarella y Tomate\")\n",
        "    print(\"Ingrediente adicional = \",vegetariana[n-1])\n",
        "  else:\n",
        "    print(\"Opcion no valida\")\n",
        "\n",
        "elif (Tipo == 2) :\n",
        "  n = int(input(\"Ingrediente adicional precione numero correspondiente\\n1. Pepperoni\\n2. Jamon\\n3. Salmon\\n\"))\n",
        "  if n in [1,2,3]:\n",
        "    print (\"\\nPizza  NO vegetariana:\\nIncluye Mozzarella y Tomate\")\n",
        "    print(\"Ingrediente adicional = \",NO_Vegetariana[n-1])\n",
        "  else:\n",
        "    print(\"Opcion no valida\")\n",
        "\n",
        "else :\n",
        "  print(\"Opcion no valida\")"
      ],
      "metadata": {
        "colab": {
          "base_uri": "https://localhost:8080/"
        },
        "id": "_yctL4kY1mQd",
        "outputId": "00fa01dc-b196-496f-f1e3-969544d9572c"
      },
      "execution_count": 15,
      "outputs": [
        {
          "output_type": "stream",
          "name": "stdout",
          "text": [
            "Que tipo de pizza quiere\n",
            " 1.vegetariana  \n",
            " 2. NO vegetariana \n",
            "2\n",
            "Ingrediente adicional precione numero correspondiente\n",
            "1. Pepperoni\n",
            "2. Jamon\n",
            "3. Salmon\n",
            "4\n",
            "Opcion no valida\n"
          ]
        }
      ]
    }
  ]
}